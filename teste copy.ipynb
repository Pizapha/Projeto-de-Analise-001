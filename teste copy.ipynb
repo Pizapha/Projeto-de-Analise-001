{
 "cells": [
  {
   "cell_type": "code",
   "execution_count": null,
   "id": "fa0db3a2",
   "metadata": {
    "vscode": {
     "languageId": "plaintext"
    }
   },
   "outputs": [],
   "source": [
    "#teste"
   ]
  }
 ],
 "metadata": {
  "language_info": {
   "name": "python"
  }
 },
 "nbformat": 4,
 "nbformat_minor": 5
}
